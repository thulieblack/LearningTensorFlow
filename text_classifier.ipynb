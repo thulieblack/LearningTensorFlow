{
  "nbformat": 4,
  "nbformat_minor": 0,
  "metadata": {
    "colab": {
      "name": "text classifier.ipynb",
      "provenance": [],
      "authorship_tag": "ABX9TyMmpjITZn/7CoPjl1CNCjYA",
      "include_colab_link": true
    },
    "kernelspec": {
      "name": "python3",
      "display_name": "Python 3"
    }
  },
  "cells": [
    {
      "cell_type": "markdown",
      "metadata": {
        "id": "view-in-github",
        "colab_type": "text"
      },
      "source": [
        "<a href=\"https://colab.research.google.com/github/thulieblack/LearningTensorFlow/blob/main/text_classifier.ipynb\" target=\"_parent\"><img src=\"https://colab.research.google.com/assets/colab-badge.svg\" alt=\"Open In Colab\"/></a>"
      ]
    },
    {
      "cell_type": "code",
      "metadata": {
        "id": "D1RTt0s2WsRz"
      },
      "source": [
        "import tensorflow as tf\r\n",
        "import numpy as np\r\n",
        "from tensorflow import keras"
      ],
      "execution_count": 30,
      "outputs": []
    },
    {
      "cell_type": "code",
      "metadata": {
        "id": "IqX65vt6XBAf"
      },
      "source": [
        "data = keras.datasets.imdb"
      ],
      "execution_count": 31,
      "outputs": []
    },
    {
      "cell_type": "code",
      "metadata": {
        "colab": {
          "base_uri": "https://localhost:8080/"
        },
        "id": "baOe7l7yXLp7",
        "outputId": "6da35799-05db-4a11-8cea-a2a291650791"
      },
      "source": [
        "(train_data,train_labels),(test_data,test_labels) =  data.load_data(num_words=10000)"
      ],
      "execution_count": 32,
      "outputs": [
        {
          "output_type": "stream",
          "text": [
            "<string>:6: VisibleDeprecationWarning: Creating an ndarray from ragged nested sequences (which is a list-or-tuple of lists-or-tuples-or ndarrays with different lengths or shapes) is deprecated. If you meant to do this, you must specify 'dtype=object' when creating the ndarray\n",
            "/usr/local/lib/python3.6/dist-packages/tensorflow/python/keras/datasets/imdb.py:159: VisibleDeprecationWarning: Creating an ndarray from ragged nested sequences (which is a list-or-tuple of lists-or-tuples-or ndarrays with different lengths or shapes) is deprecated. If you meant to do this, you must specify 'dtype=object' when creating the ndarray\n",
            "  x_train, y_train = np.array(xs[:idx]), np.array(labels[:idx])\n",
            "/usr/local/lib/python3.6/dist-packages/tensorflow/python/keras/datasets/imdb.py:160: VisibleDeprecationWarning: Creating an ndarray from ragged nested sequences (which is a list-or-tuple of lists-or-tuples-or ndarrays with different lengths or shapes) is deprecated. If you meant to do this, you must specify 'dtype=object' when creating the ndarray\n",
            "  x_test, y_test = np.array(xs[idx:]), np.array(labels[idx:])\n"
          ],
          "name": "stderr"
        }
      ]
    },
    {
      "cell_type": "code",
      "metadata": {
        "id": "MSOWtFPUXefG"
      },
      "source": [
        "word_index = data.get_word_index()"
      ],
      "execution_count": 33,
      "outputs": []
    },
    {
      "cell_type": "code",
      "metadata": {
        "id": "KvXFcPDRXvOc"
      },
      "source": [
        "word_index = {k:(v+3)for k,v in word_index.items()}"
      ],
      "execution_count": 34,
      "outputs": []
    },
    {
      "cell_type": "code",
      "metadata": {
        "id": "XNfj8OGmYAp4"
      },
      "source": [
        "word_index['<PAD>']=  0\r\n",
        "word_index['<START>']= 1\r\n",
        "word_index['<UNK>']= 2\r\n",
        "word_index['<UNUSED>'] =3 "
      ],
      "execution_count": 35,
      "outputs": []
    },
    {
      "cell_type": "code",
      "metadata": {
        "id": "cccrx87CYdaJ"
      },
      "source": [
        "reverse_word_index = dict([(value,key)for(key,value)in word_index.items()])"
      ],
      "execution_count": 36,
      "outputs": []
    },
    {
      "cell_type": "code",
      "metadata": {
        "id": "dT5nc7efZuQ0"
      },
      "source": [
        "train_data = keras.preprocessing.sequence.pad_sequences(train_data,value = word_index['<PAD>'],padding ='post',maxlen=250 )\r\n",
        "test_data = keras.preprocessing.sequence.pad_sequences(test_data,value = word_index['<PAD>'],padding ='post',maxlen=250 )"
      ],
      "execution_count": 37,
      "outputs": []
    },
    {
      "cell_type": "code",
      "metadata": {
        "id": "9i4eH4iLaeuc"
      },
      "source": [
        "def decode_review(text):\r\n",
        "  return \"\".join([reverse_word_index.get(i,\"?\")for i in text])"
      ],
      "execution_count": 38,
      "outputs": []
    },
    {
      "cell_type": "code",
      "metadata": {
        "id": "_MzzHQwcbTej"
      },
      "source": [
        "#model building\r\n",
        "\r\n",
        "model = keras.Sequential()\r\n",
        "model.add(keras.layers.Embedding(10000,16))\r\n",
        "model.add(keras.layers.GlobalAveragePooling1D())\r\n",
        "model.add(keras.layers.Dense(16,activation='relu'))\r\n",
        "model.add(keras.layers.Dense(1,activation='sigmoid'))\r\n"
      ],
      "execution_count": 39,
      "outputs": []
    },
    {
      "cell_type": "code",
      "metadata": {
        "colab": {
          "base_uri": "https://localhost:8080/"
        },
        "id": "3teS0NvmcCnq",
        "outputId": "1dc317eb-8615-4854-ca03-593c23ea548e"
      },
      "source": [
        "model.summary()"
      ],
      "execution_count": 40,
      "outputs": [
        {
          "output_type": "stream",
          "text": [
            "Model: \"sequential_1\"\n",
            "_________________________________________________________________\n",
            "Layer (type)                 Output Shape              Param #   \n",
            "=================================================================\n",
            "embedding_1 (Embedding)      (None, None, 16)          160000    \n",
            "_________________________________________________________________\n",
            "global_average_pooling1d_1 ( (None, 16)                0         \n",
            "_________________________________________________________________\n",
            "dense_2 (Dense)              (None, 16)                272       \n",
            "_________________________________________________________________\n",
            "dense_3 (Dense)              (None, 1)                 17        \n",
            "=================================================================\n",
            "Total params: 160,289\n",
            "Trainable params: 160,289\n",
            "Non-trainable params: 0\n",
            "_________________________________________________________________\n"
          ],
          "name": "stdout"
        }
      ]
    },
    {
      "cell_type": "code",
      "metadata": {
        "id": "1c1HQ0AocGNy"
      },
      "source": [
        "model.compile(optimizer='adam',loss='binary_crossentropy',metrics=['accuracy'])"
      ],
      "execution_count": 47,
      "outputs": []
    },
    {
      "cell_type": "code",
      "metadata": {
        "id": "yIFaA2YRccAB"
      },
      "source": [
        "x_val = train_data[:10000]\r\n",
        "x_train = train_data[10000:]"
      ],
      "execution_count": 48,
      "outputs": []
    },
    {
      "cell_type": "code",
      "metadata": {
        "id": "nbQaUMqNcwG4"
      },
      "source": [
        "y_val = train_labels[:10000]\r\n",
        "y_train = train_labels[10000:]"
      ],
      "execution_count": 49,
      "outputs": []
    },
    {
      "cell_type": "code",
      "metadata": {
        "colab": {
          "base_uri": "https://localhost:8080/"
        },
        "id": "aXpVuB1qc3RI",
        "outputId": "8f28dfc0-e8ae-4476-cc8a-a3a5a770d5ee"
      },
      "source": [
        "fitModel = model.fit(x_train,y_train,epochs=50,batch_size=512,validation_data=(x_val,y_val),verbose=1)\r\n"
      ],
      "execution_count": 51,
      "outputs": [
        {
          "output_type": "stream",
          "text": [
            "Epoch 1/50\n",
            "30/30 [==============================] - 1s 20ms/step - loss: 0.1920 - accuracy: 0.9361 - val_loss: 0.2888 - val_accuracy: 0.8841\n",
            "Epoch 2/50\n",
            "30/30 [==============================] - 1s 20ms/step - loss: 0.1833 - accuracy: 0.9396 - val_loss: 0.2868 - val_accuracy: 0.8855\n",
            "Epoch 3/50\n",
            "30/30 [==============================] - 1s 19ms/step - loss: 0.1751 - accuracy: 0.9435 - val_loss: 0.2862 - val_accuracy: 0.8834\n",
            "Epoch 4/50\n",
            "30/30 [==============================] - 1s 21ms/step - loss: 0.1678 - accuracy: 0.9467 - val_loss: 0.2845 - val_accuracy: 0.8859\n",
            "Epoch 5/50\n",
            "30/30 [==============================] - 1s 21ms/step - loss: 0.1609 - accuracy: 0.9489 - val_loss: 0.2848 - val_accuracy: 0.8849\n",
            "Epoch 6/50\n",
            "30/30 [==============================] - 1s 20ms/step - loss: 0.1540 - accuracy: 0.9523 - val_loss: 0.2859 - val_accuracy: 0.8843\n",
            "Epoch 7/50\n",
            "30/30 [==============================] - 1s 20ms/step - loss: 0.1475 - accuracy: 0.9554 - val_loss: 0.2862 - val_accuracy: 0.8848\n",
            "Epoch 8/50\n",
            "30/30 [==============================] - 1s 20ms/step - loss: 0.1417 - accuracy: 0.9571 - val_loss: 0.2855 - val_accuracy: 0.8870\n",
            "Epoch 9/50\n",
            "30/30 [==============================] - 1s 20ms/step - loss: 0.1361 - accuracy: 0.9600 - val_loss: 0.2879 - val_accuracy: 0.8849\n",
            "Epoch 10/50\n",
            "30/30 [==============================] - 1s 20ms/step - loss: 0.1304 - accuracy: 0.9619 - val_loss: 0.2879 - val_accuracy: 0.8863\n",
            "Epoch 11/50\n",
            "30/30 [==============================] - 1s 20ms/step - loss: 0.1253 - accuracy: 0.9638 - val_loss: 0.2902 - val_accuracy: 0.8866\n",
            "Epoch 12/50\n",
            "30/30 [==============================] - 1s 20ms/step - loss: 0.1204 - accuracy: 0.9649 - val_loss: 0.2925 - val_accuracy: 0.8863\n",
            "Epoch 13/50\n",
            "30/30 [==============================] - 1s 20ms/step - loss: 0.1154 - accuracy: 0.9681 - val_loss: 0.2947 - val_accuracy: 0.8853\n",
            "Epoch 14/50\n",
            "30/30 [==============================] - 1s 20ms/step - loss: 0.1111 - accuracy: 0.9693 - val_loss: 0.2963 - val_accuracy: 0.8865\n",
            "Epoch 15/50\n",
            "30/30 [==============================] - 1s 20ms/step - loss: 0.1073 - accuracy: 0.9700 - val_loss: 0.3000 - val_accuracy: 0.8845\n",
            "Epoch 16/50\n",
            "30/30 [==============================] - 1s 20ms/step - loss: 0.1028 - accuracy: 0.9720 - val_loss: 0.3016 - val_accuracy: 0.8848\n",
            "Epoch 17/50\n",
            "30/30 [==============================] - 1s 20ms/step - loss: 0.0992 - accuracy: 0.9750 - val_loss: 0.3049 - val_accuracy: 0.8839\n",
            "Epoch 18/50\n",
            "30/30 [==============================] - 1s 20ms/step - loss: 0.0955 - accuracy: 0.9756 - val_loss: 0.3092 - val_accuracy: 0.8822\n",
            "Epoch 19/50\n",
            "30/30 [==============================] - 1s 21ms/step - loss: 0.0917 - accuracy: 0.9769 - val_loss: 0.3108 - val_accuracy: 0.8837\n",
            "Epoch 20/50\n",
            "30/30 [==============================] - 1s 21ms/step - loss: 0.0887 - accuracy: 0.9781 - val_loss: 0.3165 - val_accuracy: 0.8819\n",
            "Epoch 21/50\n",
            "30/30 [==============================] - 1s 20ms/step - loss: 0.0853 - accuracy: 0.9797 - val_loss: 0.3187 - val_accuracy: 0.8812\n",
            "Epoch 22/50\n",
            "30/30 [==============================] - 1s 21ms/step - loss: 0.0820 - accuracy: 0.9811 - val_loss: 0.3233 - val_accuracy: 0.8805\n",
            "Epoch 23/50\n",
            "30/30 [==============================] - 1s 20ms/step - loss: 0.0790 - accuracy: 0.9823 - val_loss: 0.3258 - val_accuracy: 0.8812\n",
            "Epoch 24/50\n",
            "30/30 [==============================] - 1s 21ms/step - loss: 0.0760 - accuracy: 0.9832 - val_loss: 0.3290 - val_accuracy: 0.8813\n",
            "Epoch 25/50\n",
            "30/30 [==============================] - 1s 20ms/step - loss: 0.0737 - accuracy: 0.9839 - val_loss: 0.3330 - val_accuracy: 0.8804\n",
            "Epoch 26/50\n",
            "30/30 [==============================] - 1s 24ms/step - loss: 0.0707 - accuracy: 0.9851 - val_loss: 0.3373 - val_accuracy: 0.8788\n",
            "Epoch 27/50\n",
            "30/30 [==============================] - 1s 20ms/step - loss: 0.0681 - accuracy: 0.9857 - val_loss: 0.3416 - val_accuracy: 0.8789\n",
            "Epoch 28/50\n",
            "30/30 [==============================] - 1s 21ms/step - loss: 0.0654 - accuracy: 0.9870 - val_loss: 0.3455 - val_accuracy: 0.8790\n",
            "Epoch 29/50\n",
            "30/30 [==============================] - 1s 20ms/step - loss: 0.0631 - accuracy: 0.9875 - val_loss: 0.3500 - val_accuracy: 0.8789\n",
            "Epoch 30/50\n",
            "30/30 [==============================] - 1s 20ms/step - loss: 0.0607 - accuracy: 0.9884 - val_loss: 0.3540 - val_accuracy: 0.8777\n",
            "Epoch 31/50\n",
            "30/30 [==============================] - 1s 20ms/step - loss: 0.0585 - accuracy: 0.9887 - val_loss: 0.3641 - val_accuracy: 0.8752\n",
            "Epoch 32/50\n",
            "30/30 [==============================] - 1s 20ms/step - loss: 0.0567 - accuracy: 0.9895 - val_loss: 0.3641 - val_accuracy: 0.8779\n",
            "Epoch 33/50\n",
            "30/30 [==============================] - 1s 20ms/step - loss: 0.0543 - accuracy: 0.9905 - val_loss: 0.3681 - val_accuracy: 0.8772\n",
            "Epoch 34/50\n",
            "30/30 [==============================] - 1s 20ms/step - loss: 0.0523 - accuracy: 0.9909 - val_loss: 0.3740 - val_accuracy: 0.8771\n",
            "Epoch 35/50\n",
            "30/30 [==============================] - 1s 20ms/step - loss: 0.0503 - accuracy: 0.9918 - val_loss: 0.3783 - val_accuracy: 0.8765\n",
            "Epoch 36/50\n",
            "30/30 [==============================] - 1s 21ms/step - loss: 0.0487 - accuracy: 0.9919 - val_loss: 0.3830 - val_accuracy: 0.8764\n",
            "Epoch 37/50\n",
            "30/30 [==============================] - 1s 20ms/step - loss: 0.0469 - accuracy: 0.9929 - val_loss: 0.3875 - val_accuracy: 0.8763\n",
            "Epoch 38/50\n",
            "30/30 [==============================] - 1s 20ms/step - loss: 0.0452 - accuracy: 0.9930 - val_loss: 0.3940 - val_accuracy: 0.8748\n",
            "Epoch 39/50\n",
            "30/30 [==============================] - 1s 20ms/step - loss: 0.0436 - accuracy: 0.9933 - val_loss: 0.3967 - val_accuracy: 0.8761\n",
            "Epoch 40/50\n",
            "30/30 [==============================] - 1s 20ms/step - loss: 0.0420 - accuracy: 0.9939 - val_loss: 0.4042 - val_accuracy: 0.8742\n",
            "Epoch 41/50\n",
            "30/30 [==============================] - 1s 20ms/step - loss: 0.0405 - accuracy: 0.9939 - val_loss: 0.4070 - val_accuracy: 0.8751\n",
            "Epoch 42/50\n",
            "30/30 [==============================] - 1s 20ms/step - loss: 0.0393 - accuracy: 0.9944 - val_loss: 0.4112 - val_accuracy: 0.8741\n",
            "Epoch 43/50\n",
            "30/30 [==============================] - 1s 20ms/step - loss: 0.0379 - accuracy: 0.9949 - val_loss: 0.4167 - val_accuracy: 0.8728\n",
            "Epoch 44/50\n",
            "30/30 [==============================] - 1s 21ms/step - loss: 0.0366 - accuracy: 0.9951 - val_loss: 0.4262 - val_accuracy: 0.8724\n",
            "Epoch 45/50\n",
            "30/30 [==============================] - 1s 22ms/step - loss: 0.0352 - accuracy: 0.9951 - val_loss: 0.4280 - val_accuracy: 0.8714\n",
            "Epoch 46/50\n",
            "30/30 [==============================] - 1s 21ms/step - loss: 0.0338 - accuracy: 0.9953 - val_loss: 0.4336 - val_accuracy: 0.8711\n",
            "Epoch 47/50\n",
            "30/30 [==============================] - 1s 20ms/step - loss: 0.0324 - accuracy: 0.9960 - val_loss: 0.4387 - val_accuracy: 0.8702\n",
            "Epoch 48/50\n",
            "30/30 [==============================] - 1s 20ms/step - loss: 0.0313 - accuracy: 0.9965 - val_loss: 0.4448 - val_accuracy: 0.8704\n",
            "Epoch 49/50\n",
            "30/30 [==============================] - 1s 20ms/step - loss: 0.0304 - accuracy: 0.9962 - val_loss: 0.4497 - val_accuracy: 0.8702\n",
            "Epoch 50/50\n",
            "30/30 [==============================] - 1s 20ms/step - loss: 0.0293 - accuracy: 0.9968 - val_loss: 0.4537 - val_accuracy: 0.8694\n"
          ],
          "name": "stdout"
        }
      ]
    },
    {
      "cell_type": "code",
      "metadata": {
        "colab": {
          "base_uri": "https://localhost:8080/"
        },
        "id": "ZTcIn6GFdoT6",
        "outputId": "0a4a091b-5b18-4de7-8600-83ac361fbf52"
      },
      "source": [
        "results = model.evaluate(test_data,test_labels)\r\n",
        "\r\n"
      ],
      "execution_count": 52,
      "outputs": [
        {
          "output_type": "stream",
          "text": [
            "782/782 [==============================] - 1s 1ms/step - loss: 0.4841 - accuracy: 0.8583\n"
          ],
          "name": "stdout"
        }
      ]
    },
    {
      "cell_type": "code",
      "metadata": {
        "colab": {
          "base_uri": "https://localhost:8080/"
        },
        "id": "juGionPpe1AQ",
        "outputId": "a98ebdbf-0b56-4f2b-a461-5f72f3e46c8e"
      },
      "source": [
        "results"
      ],
      "execution_count": 53,
      "outputs": [
        {
          "output_type": "execute_result",
          "data": {
            "text/plain": [
              "[0.48412448167800903, 0.8583199977874756]"
            ]
          },
          "metadata": {
            "tags": []
          },
          "execution_count": 53
        }
      ]
    },
    {
      "cell_type": "code",
      "metadata": {
        "colab": {
          "base_uri": "https://localhost:8080/"
        },
        "id": "T50PIUxGe4B8",
        "outputId": "9dc93aae-1fa9-40ff-dbe4-83bb6997ff92"
      },
      "source": [
        "test_review =  test_data[2]\r\n",
        "predict = model.predict([test_review])\r\n",
        "print('Review :')\r\n",
        "print(decode_review(test_review))\r\n",
        "print('Prediction :' + str (predict[2]))\r\n",
        "print('Actual :' + str (test_labels [2]))\r\n",
        "print(results)"
      ],
      "execution_count": 55,
      "outputs": [
        {
          "output_type": "stream",
          "text": [
            "Review :\n",
            "kingirritated<UNK>sendsthema<UNK>brbrdelightedwiththis<UNK>lookingnewkingwhotowersabovethemthe<UNK>welcomehimwitha<UNK>of<UNK>dressed<UNK>themayorstepsforwardtohandhimthekeytothe<UNK>as<UNK>camerasrecordtheeventtoeveryone'shorrorthe<UNK>promptlyeatsthemayorandthengoesonamerryrampage<UNK>citizensatrandomatitlecard<UNK>readsnewsoftheking's<UNK>throughoutthekingdomwhenthenowterrified<UNK>oncemore<UNK><UNK>forhelpheloseshistemperand<UNK>theircommunitywithlightning<UNK>themoralofourstorydeliveredbyahaplessfrogjustbeforeheiseatenisletwellenoughalonebrbrconsideringthetimeperiodwhenthisstartlinglittlefilmwasmadeandconsideringthefactthatitwasmadebyarussian<UNK>attheheightofthat<UNK>country'scivilwaritwouldbeeasytoseethisasa<UNK>aboutthoseevents<UNK>mayormaynothavehad<UNK>turmoilinmindwhenhemade<UNK>butwhatever<UNK>hischoiceofmaterialthefilmstandsasa<UNK>taleofuniversal<UNK><UNK>couldbethesovietunionitalygermanyorjapaninthe1930soranycountryofanyerathatletsitsguarddownandisoverwhelmedby<UNK>it'safascinatingfilmevenacharmingoneinitsmacabrewaybutitsmessageisnojoke\n",
            "Prediction :[0.0004909]\n",
            "Actual :1\n",
            "[0.48412448167800903, 0.8583199977874756]\n"
          ],
          "name": "stdout"
        }
      ]
    },
    {
      "cell_type": "code",
      "metadata": {
        "id": "JfK4885ff4xm"
      },
      "source": [
        ""
      ],
      "execution_count": null,
      "outputs": []
    }
  ]
}